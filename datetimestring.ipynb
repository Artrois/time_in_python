{
 "cells": [
  {
   "cell_type": "code",
   "execution_count": 26,
   "id": "06ce40a9",
   "metadata": {},
   "outputs": [
    {
     "name": "stdout",
     "output_type": "stream",
     "text": [
      "0 : am\n",
      "1 : am\n",
      "2 : am\n",
      "3 : am\n",
      "4 : am\n",
      "5 : am\n",
      "6 : am\n",
      "7 : am\n",
      "8 : am\n",
      "9 : am\n",
      "10 : am\n",
      "11 : am\n",
      "12 : pm\n",
      "13 : pm\n",
      "14 : pm\n",
      "15 : pm\n",
      "16 : pm\n",
      "17 : pm\n",
      "18 : pm\n",
      "19 : pm\n",
      "20 : pm\n",
      "21 : pm\n",
      "22 : pm\n",
      "23 : pm\n",
      "local time:  2022-08-21 02:34 PM\n",
      "current utc time:  2022-08-21 12:34:49.658982\n",
      "current time:  2022-08-21 14:34:49.658982\n",
      "14:34:49.658982\n",
      "static time:  2009-11-29 03:17 PM\n",
      "static time 24h format:  2009-11-29 03:17:00\n",
      "static time 12h format:  2009-11-29 15:17:00\n",
      "static time 24h format: 2009-11-29 03:17 AM\n",
      "static time 12h format: 2009-11-29 03:17 PM\n",
      "current utc time 24h format:  2022-08-21 12:34 PM\n",
      "current time 24h format:  2022-08-21 14:34 PM\n",
      "current time 12h format:  2022-08-21 02:34 PM\n"
     ]
    }
   ],
   "source": [
    "from datetime import datetime\n",
    "import time\n",
    "\n",
    "#24h format\n",
    "date_string = '2009-11-29 03:17 PM';\n",
    "format_24h = '%Y-%m-%d %H:%M %p';\n",
    "format_12h = '%Y-%m-%d %I:%M %p';\n",
    "am_or_pm = '';\n",
    "\n",
    "#24h format\n",
    "hour = int(time.strftime(\"%H\", time.localtime()));\n",
    "\n",
    "for hour in range(0, 24):\n",
    "    \n",
    "    if 0 <= hour <= 11:\n",
    "        am_or_pm = 'am';\n",
    "    else:\n",
    "        am_or_pm = 'pm';\n",
    "    print(hour, ':', am_or_pm);\n",
    "\n",
    "\n",
    "\n",
    "#my_date = datetime.strptime(date_string, format);\n",
    "print('local time: ', time.strftime(format_12h, time.localtime()));\n",
    "print ('current utc time: ', datetime.utcnow());\n",
    "print ('current time: ', datetime.now());\n",
    "print (datetime.now().time());\n",
    "print ('static time: ', date_string);\n",
    "# This prints '2009-11-29 03:17 AM'\n",
    "print ('static time 24h format: ', datetime.strptime(date_string, format_24h));\n",
    "print ('static time 12h format: ', datetime.strptime(date_string, format_12h));\n",
    "print ('static time 24h format: ' + datetime.strptime(date_string, format_24h).strftime(format_24h));\n",
    "print ('static time 12h format: ' + datetime.strptime(date_string, format_12h).strftime(format_12h));\n",
    "print ('current utc time 24h format: ', datetime.utcnow().strftime(format_24h));\n",
    "print ('current time 24h format: ', datetime.now().strftime(format_24h));\n",
    "print ('current time 12h format: ', datetime.now().strftime(format_12h));"
   ]
  },
  {
   "cell_type": "code",
   "execution_count": 16,
   "id": "ea7d4c56",
   "metadata": {},
   "outputs": [
    {
     "name": "stdout",
     "output_type": "stream",
     "text": [
      "curent time:  2022-08-19 20:42:41.209444+00:00\n",
      "de time:  22:42\n",
      "curent time:  2022-08-19 20:42:41.209444+00:00\n",
      "en time:  09:42 PM\n"
     ]
    }
   ],
   "source": [
    "from datetime import datetime as datatime\n",
    "import time\n",
    "import pytz\n",
    "\n",
    "def my_date_time_func(language):\n",
    "    us_est = pytz.timezone('US/Eastern');\n",
    "    us_cst = pytz.timezone('US/Central');\n",
    "    eu_ber = pytz.timezone('Europe/Berlin');\n",
    "    eu_lnd = pytz.timezone('Europe/London');\n",
    "    utc_now = pytz.utc.localize(datatime.utcnow());\n",
    "    print(\"curent time: \", utc_now);\n",
    "    xclusive_time = utc_now; #datatime.now().time()\n",
    "\n",
    "\n",
    "    if language == 'de':\n",
    "            return xclusive_time.astimezone(eu_ber).strftime(\"%H:%M\");\n",
    "    elif language == 'en':\n",
    "            return xclusive_time.astimezone(eu_lnd).strftime(\"%I:%M %p\");\n",
    "\n",
    "print(\"de time: \", my_date_time_func(\"de\"));\n",
    "print(\"en time: \", my_date_time_func(\"en\"));\n",
    "\n",
    "\n",
    "        \n"
   ]
  },
  {
   "cell_type": "code",
   "execution_count": 34,
   "id": "5bcb1f99",
   "metadata": {},
   "outputs": [
    {
     "name": "stdout",
     "output_type": "stream",
     "text": [
      "en time:  02:51 pm\n"
     ]
    }
   ],
   "source": [
    "xclusive_time = datetime.now().time()\n",
    "\n",
    "am_or_pm = '';\n",
    "\n",
    "#24h format\n",
    "hour = int(time.strftime(\"%H\", time.localtime()));\n",
    "if 0 <= hour <= 11:\n",
    "       am_or_pm = 'am';\n",
    "else:\n",
    "       am_or_pm = 'pm';\n",
    "\n",
    "\n",
    "\n",
    "language = 'en';\n",
    "if language == 'de':\n",
    "       print('de time:', xclusive_time.strftime(\"%H:%M\"))\n",
    "\n",
    "elif language == \"en\":\n",
    "       am_pm_time = \"%s %s\" % (xclusive_time.strftime(\"%I:%M\"), am_or_pm);\n",
    "       print (\"en time: \", am_pm_time)\n",
    "       #return am_pm_time"
   ]
  }
 ],
 "metadata": {
  "kernelspec": {
   "display_name": "Python 3 (ipykernel)",
   "language": "python",
   "name": "python3"
  },
  "language_info": {
   "codemirror_mode": {
    "name": "ipython",
    "version": 3
   },
   "file_extension": ".py",
   "mimetype": "text/x-python",
   "name": "python",
   "nbconvert_exporter": "python",
   "pygments_lexer": "ipython3",
   "version": "3.10.4"
  },
  "vscode": {
   "interpreter": {
    "hash": "369f2c481f4da34e4445cda3fffd2e751bd1c4d706f27375911949ba6bb62e1c"
   }
  }
 },
 "nbformat": 4,
 "nbformat_minor": 5
}
